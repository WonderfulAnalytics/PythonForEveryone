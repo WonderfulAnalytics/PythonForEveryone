{
 "cells": [
  {
   "cell_type": "markdown",
   "id": "3f6cd7bc",
   "metadata": {},
   "source": [
    "# Lesson 1: Writing Your First Python Program"
   ]
  },
  {
   "cell_type": "markdown",
   "id": "1113fd5a",
   "metadata": {},
   "source": [
    "## Introduction to Scripting vs. Interactive Mode"
   ]
  },
  {
   "cell_type": "markdown",
   "id": "c6652663",
   "metadata": {},
   "source": [
    "**Interactive Mode:**\n",
    "- You can run Python code line by line in an interactive shell.\n",
    "- To start the interactive shell, open your terminal (or Command Prompt on Windows) and type `python` or `python3`.\n",
    "- Example:"
   ]
  },
  {
   "cell_type": "code",
   "execution_count": null,
   "id": "df536ee6",
   "metadata": {},
   "outputs": [],
   "source": [
    "print('Hello, World!')\n",
    "x = 5\n",
    "y = 10\n",
    "z = x + y\n",
    "print(z)"
   ]
  },
  {
   "cell_type": "markdown",
   "id": "c80364a4",
   "metadata": {},
   "source": [
    "**Scripting Mode:**\n",
    "- You write your code in a file (with a `.py` extension) and run the entire file at once.\n",
    "- Example:\n",
    "  1. Open your favorite text editor or IDE.\n",
    "  2. Create a new file named `hello.py`.\n",
    "  3. Add the following code to `hello.py`:\n"
   ]
  },
  {
   "cell_type": "code",
   "execution_count": null,
   "id": "e63d6f2b",
   "metadata": {},
   "outputs": [],
   "source": [
    "# This is a comment\n",
    "print('Hello, World!')\n",
    "\n",
    "x = 5\n",
    "y = 10\n",
    "z = x + y\n",
    "print(z)"
   ]
  },
  {
   "cell_type": "markdown",
   "id": "98185d09",
   "metadata": {},
   "source": [
    "## Basic Syntax and Structure of a Python Script"
   ]
  },
  {
   "cell_type": "markdown",
   "id": "5b78e69a",
   "metadata": {},
   "source": [
    "**Basic Elements of a Python Script:**\n",
    "- **Comments:**\n",
    "  - Use `#` to write comments.\n",
    "  - Example:"
   ]
  },
  {
   "cell_type": "code",
   "execution_count": null,
   "id": "afb9dc0e",
   "metadata": {},
   "outputs": [],
   "source": [
    "# This is a single-line comment"
   ]
  },
  {
   "cell_type": "markdown",
   "id": "8477ece1",
   "metadata": {},
   "source": [
    "- **Print Statement:**\n",
    "  - Use `print()` to output text to the console.\n",
    "  - Example:"
   ]
  },
  {
   "cell_type": "code",
   "execution_count": null,
   "id": "ac2f83a8",
   "metadata": {},
   "outputs": [],
   "source": [
    "print('Hello, World!')"
   ]
  },
  {
   "cell_type": "markdown",
   "id": "74987c68",
   "metadata": {},
   "source": [
    "- **Variables:**\n",
    "  - Variables store data values.\n",
    "  - Example:"
   ]
  },
  {
   "cell_type": "code",
   "execution_count": null,
   "id": "e37a5252",
   "metadata": {},
   "outputs": [],
   "source": [
    "x = 5\n",
    "y = 10\n",
    "z = x + y\n",
    "print(z)"
   ]
  },
  {
   "cell_type": "markdown",
   "id": "74cc92a6",
   "metadata": {},
   "source": [
    "## Running Python Scripts"
   ]
  },
  {
   "cell_type": "markdown",
   "id": "3316041c",
   "metadata": {},
   "source": [
    "**Running a Script from the Command Line:**\n",
    "- Open your terminal (or Command Prompt on Windows).\n",
    "- Navigate to the directory where your `hello.py` file is located.\n",
    "- Run the script by typing:"
   ]
  },
  {
   "cell_type": "code",
   "execution_count": null,
   "id": "be5b0a2d",
   "metadata": {},
   "outputs": [],
   "source": [
    "python hello.py"
   ]
  },
  {
   "cell_type": "markdown",
   "id": "beb0e63f",
   "metadata": {},
   "source": [
    "You should see the output:\n",
    "```\n",
    "Hello, World!\n",
    "15\n",
    "```"
   ]
  },
  {
   "cell_type": "markdown",
   "id": "9059c645",
   "metadata": {},
   "source": [
    "## Commenting in Python"
   ]
  },
  {
   "cell_type": "markdown",
   "id": "67c41cd8",
   "metadata": {},
   "source": [
    "**Single-line Comments:**\n",
    "- Use `#` to start a single-line comment.\n",
    "- Example:"
   ]
  },
  {
   "cell_type": "code",
   "execution_count": null,
   "id": "a611ed5d",
   "metadata": {},
   "outputs": [],
   "source": [
    "# This is a single-line comment\n",
    "print('Hello, World!')  # This is an inline comment"
   ]
  },
  {
   "cell_type": "markdown",
   "id": "93490e4e",
   "metadata": {},
   "source": [
    "**Multi-line Comments:**\n",
    "- Use triple quotes (`'''` or `\"\"\"`) for multi-line comments.\n",
    "- Example:"
   ]
  },
  {
   "cell_type": "code",
   "execution_count": null,
   "id": "1de55d6b",
   "metadata": {},
   "outputs": [],
   "source": [
    "\"\"\"\n",
    "This is a multi-line comment\n",
    "that spans multiple lines.\n",
    "\"\"\"\n",
    "print('Hello, World!')"
   ]
  },
  {
   "cell_type": "markdown",
   "id": "500ef964",
   "metadata": {},
   "source": [
    "## Full Example Script: `hello.py`"
   ]
  },
  {
   "cell_type": "code",
   "execution_count": null,
   "id": "5fbcae08",
   "metadata": {},
   "outputs": [],
   "source": [
    "# This is a single-line comment\n",
    "print('Hello, World!')  # This prints a greeting message\n",
    "\n",
    "x = 5  # Assigning the value 5 to the variable x\n",
    "y = 10  # Assigning the value 10 to the variable y\n",
    "\n",
    "# Adding x and y and storing the result in z\n",
    "z = x + y\n",
    "\n",
    "print(z)  # This prints the value of z"
   ]
  },
  {
   "cell_type": "markdown",
   "id": "827d340b",
   "metadata": {},
   "source": [
    "## Instructions for Students\n",
    "1. Create a new file named `hello.py` in your text editor or IDE.\n",
    "2. Copy the example script into `hello.py`.\n",
    "3. Save the file.\n",
    "4. Open your terminal (or Command Prompt on Windows).\n",
    "5. Navigate to the directory where your `hello.py` file is located.\n",
    "6. Run the script by typing `python hello.py` and observe the output."
   ]
  }
 ],
 "metadata": {
  "kernelspec": {
   "display_name": "Python 3 (ipykernel)",
   "language": "python",
   "name": "python3"
  },
  "language_info": {
   "codemirror_mode": {
    "name": "ipython",
    "version": 3
   },
   "file_extension": ".py",
   "mimetype": "text/x-python",
   "name": "python",
   "nbconvert_exporter": "python",
   "pygments_lexer": "ipython3",
   "version": "3.11.4"
  }
 },
 "nbformat": 4,
 "nbformat_minor": 5
}
