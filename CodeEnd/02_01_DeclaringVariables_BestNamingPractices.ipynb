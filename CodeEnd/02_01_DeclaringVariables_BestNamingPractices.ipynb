{
 "cells": [
  {
   "cell_type": "markdown",
   "id": "930b4b05",
   "metadata": {},
   "source": [
    "# Lesson 2: Python Basics : 02_01\n",
    "## Declaring and Initializing Variables\n",
    "## Best Practices in Naming Variables\n",
    "\n",
    "### Learning Objectives\n",
    "\n",
    "In this lesson, you will learn:\n",
    "1. How to declare and initialize variables in Python.\n",
    "2. Best practices for naming variables."
   ]
  },
  {
   "cell_type": "markdown",
   "id": "7cb7cd4a",
   "metadata": {},
   "source": [
    "### Declaring and Initializing Variables\n",
    "In Python, you can declare and initialize variables by assigning a value to a variable name."
   ]
  },
  {
   "cell_type": "code",
   "execution_count": null,
   "id": "1acf4405",
   "metadata": {},
   "outputs": [],
   "source": [
    "# Declaring and initializing variables\n",
    "age = 23  # Integer\n",
    "height = 6.5  # Float\n",
    "name = \"Maya\"  # String\n",
    "is_student = True  # Boolean\n",
    "\n",
    "# Print the variables to see the values\n",
    "print(x)\n",
    "print(y)\n",
    "print(name)\n",
    "print(is_student)"
   ]
  },
  {
   "cell_type": "markdown",
   "id": "76ee4592",
   "metadata": {},
   "source": [
    "### Best Practices in Naming Variables\n",
    "1. Use descriptive names that convey the purpose of the variable.\n",
    "2. Use lowercase letters and underscores to separate words (snake_case).\n",
    "3. Avoid using Python keywords and built-in function names.\n",
    "4. Start with a letter or underscore, but avoid starting with a number.\n",
    "5. Use singular nouns for single items and plural nouns for collections.\n"
   ]
  },
  {
   "cell_type": "code",
   "execution_count": null,
   "id": "67e26f3b",
   "metadata": {},
   "outputs": [],
   "source": [
    "# Good variable names\n",
    "first_name = \"Maya\"\n",
    "age = 25\n",
    "total_price = 99.99\n",
    "\n",
    "# Print the variables to see the values\n",
    "print(first_name)\n",
    "print(age)\n",
    "print(total_price)"
   ]
  },
  {
   "cell_type": "markdown",
   "id": "4508ec77",
   "metadata": {},
   "source": [
    "### Best Naming Conventions Table"
   ]
  },
  {
   "cell_type": "code",
   "execution_count": 1,
   "id": "bfdfa7e9",
   "metadata": {},
   "outputs": [
    {
     "data": {
      "text/markdown": [
       "\n",
       "| Good Naming Convention | Bad Naming Convention | Reason                       |\n",
       "|------------------------|-----------------------|------------------------------|\n",
       "| `first_name`           | `x`                   | Descriptive and readable     |\n",
       "| `total_price`          | `tp`                  | Clear and meaningful         |\n",
       "| `num_students`         | `n`                   | Conveys the purpose clearly  |\n",
       "| `user_age`             | `age_of_user`         | Short and concise            |\n",
       "| `is_active`            | `active`              | Clear boolean indicator      |\n"
      ],
      "text/plain": [
       "<IPython.core.display.Markdown object>"
      ]
     },
     "metadata": {},
     "output_type": "display_data"
    }
   ],
   "source": [
    "from IPython.display import Markdown, display\n",
    "\n",
    "table = '''\n",
    "| Good Naming Convention | Bad Naming Convention | Reason                       |\n",
    "|------------------------|-----------------------|------------------------------|\n",
    "| `first_name`           | `x`                   | Descriptive and readable     |\n",
    "| `total_price`          | `tp`                  | Clear and meaningful         |\n",
    "| `num_students`         | `n`                   | Conveys the purpose clearly  |\n",
    "| `user_age`             | `age_of_user`         | Short and concise            |\n",
    "| `is_active`            | `active`              | Clear boolean indicator      |\n",
    "'''\n",
    "\n",
    "display(Markdown(table))"
   ]
  },
  {
   "cell_type": "code",
   "execution_count": null,
   "id": "a0f06dde",
   "metadata": {},
   "outputs": [],
   "source": []
  }
 ],
 "metadata": {
  "kernelspec": {
   "display_name": "Python 3 (ipykernel)",
   "language": "python",
   "name": "python3"
  },
  "language_info": {
   "codemirror_mode": {
    "name": "ipython",
    "version": 3
   },
   "file_extension": ".py",
   "mimetype": "text/x-python",
   "name": "python",
   "nbconvert_exporter": "python",
   "pygments_lexer": "ipython3",
   "version": "3.11.4"
  }
 },
 "nbformat": 4,
 "nbformat_minor": 5
}
